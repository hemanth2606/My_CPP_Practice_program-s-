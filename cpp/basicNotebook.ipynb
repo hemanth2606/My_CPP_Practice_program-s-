{
 "cells": [
  {
   "cell_type": "markdown",
   "metadata": {},
   "source": [
    "1)Given an unsorted array A of size N that contains only non-negative integers, find a continuous sub-array which adds to a given number S.\n",
    "\n",
    "In case of multiple subarrays, return the subarray which comes first on moving from left to right.\n",
    "\n",
    "\n",
    "Example 1:\n",
    "\n",
    "Input:\n",
    "N = 5, S = 12\n",
    "A[] = {1,2,3,7,5}\n",
    "Output: 2 4\n",
    "Explanation: The sum of elements \n",
    "from 2nd position to 4th position \n",
    "is 12.\n",
    " "
   ]
  },
  {
   "cell_type": "markdown",
   "metadata": {},
   "source": [
    "this the basic programming python \n",
    "\n"
   ]
  },
  {
   "cell_type": "code",
   "execution_count": 4,
   "metadata": {},
   "outputs": [
    {
     "name": "stdout",
     "output_type": "stream",
     "text": [
      "14\n",
      "23\n",
      "32\n",
      "41\n"
     ]
    }
   ],
   "source": [
    "def Array(arr,n,s):\n",
    "    for i in range(n):\n",
    "        for j in range(n):\n",
    "            if(i+j==s):\n",
    "                print(f'{arr[i]}{arr[j]}')\n",
    "\n",
    "Array([1,2,3,4,5],5,3)"
   ]
  },
  {
   "cell_type": "code",
   "execution_count": null,
   "metadata": {},
   "outputs": [],
   "source": []
  }
 ],
 "metadata": {
  "kernelspec": {
   "display_name": "Python 3.9.5 64-bit",
   "language": "python",
   "name": "python3"
  },
  "language_info": {
   "codemirror_mode": {
    "name": "ipython",
    "version": 3
   },
   "file_extension": ".py",
   "mimetype": "text/x-python",
   "name": "python",
   "nbconvert_exporter": "python",
   "pygments_lexer": "ipython3",
   "version": "3.9.5"
  },
  "orig_nbformat": 4,
  "vscode": {
   "interpreter": {
    "hash": "c4a465a17673be03a44ca7fa746754d75fdc57eb9fa0aba8ff710a74189c4e9d"
   }
  }
 },
 "nbformat": 4,
 "nbformat_minor": 2
}
